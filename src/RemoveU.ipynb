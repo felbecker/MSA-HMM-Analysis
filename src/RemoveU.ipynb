{
 "cells": [
  {
   "cell_type": "code",
   "execution_count": 2,
   "id": "5947f681-ae2b-4bc4-974f-cb0d00d262a0",
   "metadata": {},
   "outputs": [
    {
     "name": "stdout",
     "output_type": "stream",
     "text": [
      "Collecting in_place\n",
      "  Downloading in_place-0.5.0-py3-none-any.whl (9.1 kB)\n",
      "Installing collected packages: in-place\n",
      "Successfully installed in-place-0.5.0\n"
     ]
    }
   ],
   "source": [
    "!pip install in_place"
   ]
  },
  {
   "cell_type": "code",
   "execution_count": 7,
   "id": "385e60a8-8d24-45c2-99cc-d3e5f98aea20",
   "metadata": {},
   "outputs": [],
   "source": [
    "!cp -r results/size_scaling/subset_fasta results/size_scaling/subset_fasta_no_u"
   ]
  },
  {
   "cell_type": "code",
   "execution_count": 8,
   "id": "58c812bc-7671-46ee-b175-dafd6deffaea",
   "metadata": {},
   "outputs": [],
   "source": [
    "import in_place\n",
    "\n",
    "def remove_U(filepath):\n",
    "    with in_place.InPlace(filepath) as file:\n",
    "        for line in file:\n",
    "            if line[0] != \">\":\n",
    "                line = line.replace(\"U\", \"X\")\n",
    "                line = line.replace(\"u\", \"x\")\n",
    "            file.write(line)   "
   ]
  },
  {
   "cell_type": "code",
   "execution_count": 10,
   "id": "fa774ade-16b7-47f5-8eb5-a0f6f5e9e835",
   "metadata": {},
   "outputs": [],
   "source": [
    "import os\n",
    "\n",
    "fasta_dir = \"results/size_scaling/subset_fasta_no_u/\"\n",
    "\n",
    "for file in os.listdir(os.fsencode(fasta_dir)):\n",
    "    filename = os.fsdecode(file)\n",
    "    if filename.endswith(\".fasta\"):\n",
    "        remove_U(fasta_dir + filename)"
   ]
  },
  {
   "cell_type": "code",
   "execution_count": null,
   "id": "8d295274-e4f8-48bc-94bc-dcfa59d2645b",
   "metadata": {
    "tags": []
   },
   "outputs": [],
   "source": []
  }
 ],
 "metadata": {
  "kernelspec": {
   "display_name": "Python 3",
   "language": "python",
   "name": "python3"
  },
  "language_info": {
   "codemirror_mode": {
    "name": "ipython",
    "version": 3
   },
   "file_extension": ".py",
   "mimetype": "text/x-python",
   "name": "python",
   "nbconvert_exporter": "python",
   "pygments_lexer": "ipython3",
   "version": "3.9.2"
  }
 },
 "nbformat": 4,
 "nbformat_minor": 5
}
