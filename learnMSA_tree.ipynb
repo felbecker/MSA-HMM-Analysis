{
 "cells": [
  {
   "cell_type": "markdown",
   "id": "76b02c31-eac5-4f82-832c-57ac703d56b0",
   "metadata": {},
   "source": [
    "## learnMSA + tree structure"
   ]
  },
  {
   "cell_type": "markdown",
   "id": "3e931f76-f563-49a9-99e6-21be768fc87c",
   "metadata": {},
   "source": [
    "Inputs:\n",
    "- unaligned sequences + tree topology (or simpler just a $k$-clustering)\n",
    "\n",
    "<img src=\"doc/learnMSA_tree.jpg\" width=\"800\"/>"
   ]
  },
  {
   "cell_type": "markdown",
   "id": "a5ef7416-cf04-4338-b8c1-614ab6bf214f",
   "metadata": {},
   "source": [
    "Assumptions: \n",
    "- $Q$ is fixed and shared among all tree edges\n",
    "- each tree edge is parameterized by a evolutionary time $\\tau$ which is learnable and initialized with a reasonable default\n",
    "- each inner vertex is parameterized by a match distribution kernel of size 20\n",
    "\n",
    "Omit the column-index of the match state $M$ for simplicity. Let $(u,v)$ be a tree edge. Let $M_v$ denote the (sub-tree) emission distribution at inner vertex $v$. Let $P_{u,v}=exp(\\tau_{u,v}Q)$ denote the substitution probabilities along edge $(u,v)$. \n",
    "\n",
    "Cases:\n",
    "1. $u$ is a leaf, then let $Z_u$ be a one-hot encoding of the observed amino acid\n",
    "2. $u$ is an inner vertex, then $Z_u = M_u$ \n",
    "\n",
    "Compute $e_{u,v} = Z_u P_{u,v} M_v$ the probability of sampling an amino acid from the startin distribution $Z_u$, following the substitution probabilities $P_{u,v}$ and observing the resulting amino acid under $M_v$. "
   ]
  },
  {
   "cell_type": "markdown",
   "id": "ad1f84db-349d-48f8-ae12-77f83db46e42",
   "metadata": {},
   "source": [
    "### Updated forward algorithm using tree topology\n",
    "\n",
    "1. Precompute $e_{u,v}$ for all edges $(u,v)$ starting at an inner vertex.\n",
    "2. Do forward recursion for sequence $s$ as usual but with different $b(M,a)$ (assuming amino acid $a$ is observed at some point in time).\n",
    "    1. Compute $e_{s,v}$ for the leaf edge $(s,v)$.\n",
    "    2. Let $s=v_1, \\dots, v_x=w$ be a leaf-to-root path in the tree where $w$ is the root. Compute $b(M, i) = \\prod_{j=1}^{x-1} e_{v_j, v_{j+1}}$.\n",
    "    \n",
    "*Put differently, now each sequence follows a specific emission distribution which is defined by it's path in the tree, rather than using a fixed emission distribution as before.*"
   ]
  },
  {
   "cell_type": "code",
   "execution_count": null,
   "id": "2aa5ca16-60a1-4cfd-aaee-6631d72a8e22",
   "metadata": {},
   "outputs": [],
   "source": []
  }
 ],
 "metadata": {
  "kernelspec": {
   "display_name": "Python 3",
   "language": "python",
   "name": "python3"
  },
  "language_info": {
   "codemirror_mode": {
    "name": "ipython",
    "version": 3
   },
   "file_extension": ".py",
   "mimetype": "text/x-python",
   "name": "python",
   "nbconvert_exporter": "python",
   "pygments_lexer": "ipython3",
   "version": "3.9.2"
  }
 },
 "nbformat": 4,
 "nbformat_minor": 5
}
