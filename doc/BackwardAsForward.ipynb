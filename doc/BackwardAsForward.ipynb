{
 "cells": [
  {
   "cell_type": "markdown",
   "id": "86f54668-a4a1-45f6-b97f-396e8e1e97c1",
   "metadata": {},
   "source": [
    "### Forward recursion\n",
    "\n",
    "$\\alpha(q,i)=b(q,y_i) \\sum_{q' \\in Q} a_{q'q} \\alpha(q', i-1)$ \\\n",
    "$\\alpha(q,1)=b(q,y_1) P(x_1 = q)$"
   ]
  },
  {
   "cell_type": "markdown",
   "id": "4c254fb2-b157-45ea-9fa3-a003fb43e3de",
   "metadata": {},
   "source": [
    "### Backward recursion\n",
    "\n",
    "$\\beta(q,i)=\\sum_{q' \\in Q} a_{qq'} b(q', y_{i+1}) \\beta(q', i+1)$ \\\n",
    "$\\beta(q,n)=1$"
   ]
  },
  {
   "cell_type": "markdown",
   "id": "9d66d4ce-f3b5-4374-b6e5-b6f70eb1cba6",
   "metadata": {},
   "source": [
    "### Backward recursion written as a variant of forward\n",
    "\n",
    "$$\\begin{aligned}\n",
    "\\overleftarrow{\\alpha}(q,i) :&= b(q,y_i)\\beta(q,i)\\\\\n",
    "&=b(q, y_i) \\sum_{q' \\in Q} a_{qq'} b(q', y_{i+1}) \\beta(q', i+1)\\\\\n",
    "&=b(q, y_i) \\sum_{q' \\in Q} a_{qq'} \\overleftarrow{\\alpha}(q',i+1) \n",
    "\\end{aligned}$$\n",
    "\n",
    "with $\\overleftarrow{\\alpha}(q,n)=b(q,y_n)$.\n",
    "\n",
    "A variant of the backward variables can be computed by applying the forward algorithm with transposed transition matrix to the reversed sequence ."
   ]
  },
  {
   "cell_type": "markdown",
   "id": "a22fc6ff-bde7-4958-8101-0725fa804e36",
   "metadata": {},
   "source": [
    "### Using the posterior state probabilities for model surgery\n",
    "\n",
    "$P(X_i = q | Y=y) = \\frac{\\alpha(q,i)\\beta(q,i)}{P(Y=y)}$\n",
    "\n",
    "Let $C_q$ be the random variable that counts the number of occurences of a state $q$ in the hidden sequence.\n",
    "\n",
    "$E(C_q | Y=y) = \\sum_{i=1}^n P(X_i=q | Y=y)$\n",
    "\n",
    "During model surgery, for the descision to discard a state $q$ we can use Markov's inequality to estimate:\n",
    "\n",
    "$P(C_q >= 1 | Y=y) \\leq E(C_q | Y=y) < t$\n",
    "\n",
    "for a suitable threshold $t$.\n"
   ]
  },
  {
   "cell_type": "code",
   "execution_count": null,
   "id": "41811754-fe68-444c-b60b-0b28827bb1c6",
   "metadata": {},
   "outputs": [],
   "source": []
  }
 ],
 "metadata": {
  "kernelspec": {
   "display_name": "Python 3",
   "language": "python",
   "name": "python3"
  },
  "language_info": {
   "codemirror_mode": {
    "name": "ipython",
    "version": 3
   },
   "file_extension": ".py",
   "mimetype": "text/x-python",
   "name": "python",
   "nbconvert_exporter": "python",
   "pygments_lexer": "ipython3",
   "version": "3.9.2"
  }
 },
 "nbformat": 4,
 "nbformat_minor": 5
}
