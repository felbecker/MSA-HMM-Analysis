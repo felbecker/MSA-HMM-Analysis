{
 "cells": [
  {
   "cell_type": "markdown",
   "id": "fe1600e7-3165-4db9-a898-6127b43d9cff",
   "metadata": {},
   "source": [
    "### Dirichlet Mixture Priors\n",
    "\n",
    "Train dirichlet mixture priors by maximizing the likelihood of probability distributions from reference alignments given the parameters of the prior."
   ]
  },
  {
   "cell_type": "code",
   "execution_count": 1,
   "id": "cf20b72b-ec8d-4281-929e-1b431a4e10ca",
   "metadata": {},
   "outputs": [],
   "source": [
    "#import os\n",
    "#os.environ[\"CUDA_VISIBLE_DEVICES\"] = \"1\"\n",
    "import tensorflow as tf\n",
    "from matplotlib import pyplot as plt\n",
    "import numpy as np\n",
    "import itertools\n",
    "from learnMSA import msa_hmm"
   ]
  },
  {
   "cell_type": "markdown",
   "id": "c4668b4f-87cb-4971-a4f7-a393d0c3b339",
   "metadata": {},
   "source": [
    "### Training\n",
    "\n",
    "Here we train directly on the multinomial distributions taken from Pfam"
   ]
  },
  {
   "cell_type": "code",
   "execution_count": 2,
   "id": "15fdb2f4-da20-4dd9-acd6-c75bc4c3069c",
   "metadata": {},
   "outputs": [
    {
     "name": "stdout",
     "output_type": "stream",
     "text": [
      "(3239607, 3)\n",
      "(3258786, 2)\n",
      "(3239607, 2)\n",
      "(3239607, 20)\n",
      "(3239607,)\n"
     ]
    }
   ],
   "source": [
    "PFAM_A_FILEPATH = \"../old/Pfam/Pfam-A.hmm\"\n",
    "match_dists = []\n",
    "insert_dists = []\n",
    "delete_dists = []\n",
    "emission_dists = []\n",
    "sample_weights = []\n",
    "with open(PFAM_A_FILEPATH, \"r\") as hmm_file:\n",
    "    hmms = hmm_file.read().split(\"//\")\n",
    "    hmms = [hmm.strip() for hmm in hmms]\n",
    "    hmms = [hmm for hmm in hmms if len(hmm) > 0]\n",
    "    for hmm in hmms:\n",
    "        hmm_lines = hmm.split(\"\\n\")\n",
    "        hmm_start = -1\n",
    "        for i,l in enumerate(hmm_lines):\n",
    "            if l[:4] == \"HMM \":\n",
    "                hmm_start = i\n",
    "                hmm_alphabet = l.split()[1:]\n",
    "                perm = [hmm_alphabet.index(aa) for aa in msa_hmm.fasta.alphabet[:20]]\n",
    "                break\n",
    "        dists = hmm_lines[hmm_start+7:][::3]     \n",
    "        em_dists = hmm_lines[hmm_start+5:][::3]        \n",
    "        for d in dists:\n",
    "            d_float = [0 if p==\"*\" else np.exp(-float(p)) for p in d.split()]\n",
    "            match_dists.append(np.array(d_float[:3]))\n",
    "            insert_dists.append(np.array(d_float[3:5]))\n",
    "            delete_dists.append(np.array(d_float[5:]))\n",
    "        for d in em_dists[:-1]:\n",
    "            d_float = [0 if p==\"*\" else np.exp(-float(p)) for p in d.split()[1:21]]\n",
    "            emission_dists.append(np.array(d_float))\n",
    "            emission_dists[-1] = emission_dists[-1][perm]\n",
    "        num_cols = len(em_dists)-1\n",
    "        sample_weights.append(np.ones(num_cols) / (num_cols * len(hmms)))\n",
    "match_dists = [d for d in match_dists if np.all(d>0)]\n",
    "insert_dists = [d for d in insert_dists if np.all(d>0)]\n",
    "delete_dists = [d for d in delete_dists if np.all(d>0)]\n",
    "emission_dists = [d for d in emission_dists if np.all(d>0)]\n",
    "match_dists = np.stack(match_dists)\n",
    "insert_dists = np.stack(insert_dists)\n",
    "delete_dists = np.stack(delete_dists)\n",
    "emission_dists = np.stack(emission_dists)\n",
    "sample_weights = np.concatenate(sample_weights, axis=0)\n",
    "print(match_dists.shape)\n",
    "print(insert_dists.shape)\n",
    "print(delete_dists.shape)\n",
    "print(emission_dists.shape)\n",
    "print(sample_weights.shape) #unused\n",
    "np.random.shuffle(match_dists)\n",
    "np.random.shuffle(insert_dists)\n",
    "np.random.shuffle(delete_dists)\n",
    "np.random.shuffle(emission_dists)"
   ]
  },
  {
   "cell_type": "code",
   "execution_count": 4,
   "id": "547dab02-be63-4cd5-a17f-717039ec87d3",
   "metadata": {},
   "outputs": [],
   "source": [
    "def split_train_test(data, frag_test=0.15):\n",
    "    num_train = int(data.shape[0] * (1-frag_test))\n",
    "    training, test = data[:num_train,:], data[num_train:,:]\n",
    "    return training, test\n",
    "\n",
    "match_dists_train, match_dists_test = split_train_test(match_dists)\n",
    "insert_dists_train, insert_dists_test = split_train_test(insert_dists)\n",
    "delete_dists_train, delete_dists_test = split_train_test(delete_dists)\n",
    "emission_dists_train, emission_dists_test = split_train_test(emission_dists)"
   ]
  },
  {
   "cell_type": "markdown",
   "id": "f4e4da99-3d87-46da-91b9-471ee79f1333",
   "metadata": {},
   "source": [
    "### Dirichlet mixture for match positions"
   ]
  },
  {
   "cell_type": "code",
   "execution_count": 4,
   "id": "4b215b3a-377a-45ae-b983-62f14b9f4c62",
   "metadata": {},
   "outputs": [],
   "source": [
    "learn_msa_dir = \"../learnMSA/\"\n",
    "prior_dir = learn_msa_dir + \"/learnMSA/msa_hmm/trained_prior/\""
   ]
  },
  {
   "cell_type": "code",
   "execution_count": null,
   "id": "31db46b0-d929-4bfd-8c13-dbf41e51a2a4",
   "metadata": {},
   "outputs": [],
   "source": [
    "background_init_default = np.log([0.08561094, 0.05293611, 0.04151133, 0.05672544, 0.01636436,\n",
    "       0.03728793, 0.06006028, 0.08408517, 0.0247461 , 0.06263597,\n",
    "       0.09096471, 0.05326487, 0.02224342, 0.03875183, 0.04393068,\n",
    "       0.05451456, 0.05665095, 0.01439066, 0.03299227, 0.07033241])\n",
    "\n",
    "component_counts = [1,3,9,32,64,128,256]\n",
    "runs = 5\n",
    "configs = itertools.product(component_counts, [True, False], [tf.float32, tf.float64])\n",
    "with open(prior_dir+\"emissions.log\", \"a\") as file:\n",
    "    for k, use_dirichlet_process, dtype  in configs:\n",
    "        models = []\n",
    "        for i in range(runs):\n",
    "            optimizer = tf.optimizers.Adam(1e-2)\n",
    "            background_init = tf.constant_initializer(background_init_default)\n",
    "            print(k, use_dirichlet_process, dtype)\n",
    "            dm_layer = msa_hmm.dm.DirichletMixtureLayer(num_components = k,\n",
    "                                                        alphabet_size = emission_dists.shape[-1], \n",
    "                                                        use_dirichlet_process = use_dirichlet_process, \n",
    "                                                        number_of_examples = emission_dists.shape[0],\n",
    "                                                        alpha_init = \"ones\",\n",
    "                                                        mix_init = \"random_normal\",\n",
    "                                                        background_init = background_init)\n",
    "            model = msa_hmm.dm.make_model(dm_layer)\n",
    "            model.compile(optimizer)\n",
    "            callback = tf.keras.callbacks.EarlyStopping(monitor='loss', \n",
    "                                                        patience=2, \n",
    "                                                        restore_best_weights=True)\n",
    "            batch_size = 512\n",
    "            history = model.fit(emission_dists_train, \n",
    "                                epochs = 1000, \n",
    "                                verbose = 1, \n",
    "                                batch_size=batch_size, \n",
    "                                shuffle=True,\n",
    "                                callbacks=[callback])\n",
    "            loglik = tf.reduce_mean(model.predict(emission_dists_test, batch_size=batch_size)).numpy()\n",
    "            file.write(f\"Fitted a model for k = {k} with loglik = {loglik} \\n\")\n",
    "            file.flush()\n",
    "            models.append((loglik, model))\n",
    "\n",
    "        best = max(models)\n",
    "        file.write(f\"Saving best model for k = {k} with loglik = {best[0]} to file \\n\")\n",
    "        file.flush()\n",
    "        model_name = \"_\".join([str(k), str(use_dirichlet_process), dtype.name, \"_dirichlet/ckpt\"])\n",
    "        best[1].save_weights(prior_dir + model_name)\n",
    "\n",
    "        tf.keras.backend.clear_session()"
   ]
  },
  {
   "cell_type": "markdown",
   "id": "0306e051-1f67-4679-9887-effebbd6b274",
   "metadata": {},
   "source": [
    "### Load a prior and check its components"
   ]
  },
  {
   "cell_type": "code",
   "execution_count": 43,
   "id": "41ab8fe4-ea13-4687-917d-599d4dfe43ed",
   "metadata": {},
   "outputs": [],
   "source": [
    "num_components = 9\n",
    "use_dirichlet_process = True\n",
    "dtype = tf.float32\n",
    "model_path = prior_dir + \"_\".join([str(num_components), str(use_dirichlet_process), dtype.name, \"_dirichlet/ckpt\"])\n",
    "model = msa_hmm.dm.load_mixture_model(model_path, num_components, 20)\n",
    "dirichlet_layer = model.layers[-1]"
   ]
  },
  {
   "cell_type": "code",
   "execution_count": 44,
   "id": "1de2f6d6-c9dc-418e-af09-cf107c33ce09",
   "metadata": {
    "tags": []
   },
   "outputs": [
    {
     "data": {
      "image/png": "[encoded data removed]",
      "text/plain": [
       "<Figure size 2160x1296 with 9 Axes>"
      ]
     },
     "metadata": {
      "needs_background": "light"
     },
     "output_type": "display_data"
    }
   ],
   "source": [
    "component_distributions = dirichlet_layer.component_distributions()\n",
    "mix = dirichlet_layer.make_mix()\n",
    "num_rows = num_cols = int(np.ceil(np.sqrt(num_components)))\n",
    "plt.rcParams['figure.figsize'] = (10*num_rows, 6*num_cols)\n",
    "fig, axes = plt.subplots(num_rows, num_cols)\n",
    "axes = axes.flatten() if num_components > 1 else [axes]\n",
    "max_prob = np.amax(component_distributions)\n",
    "for i,ax in zip(range(num_components), axes):\n",
    "    ax.set_ylim((0,max_prob*1.05))\n",
    "    ax.bar(msa_hmm.fasta.alphabet[:20], component_distributions[i])\n",
    "    ax.text(17, max_prob,\"q=\"+str('%.3f' % mix[i].numpy()), fontsize=12)\n",
    "    ax.set_title(\"component \"+str(i+1))"
   ]
  },
  {
   "cell_type": "markdown",
   "id": "e56f2c7b-b4a8-4f08-9b4e-54d479ec9c63",
   "metadata": {},
   "source": [
    "In the plot above it can be seen, that the multimodal component distributions have amino acids that share biochemical properties. E.g. D and E are both negatively charged and polar. "
   ]
  },
  {
   "cell_type": "markdown",
   "id": "b4c591ff-c0d8-48a6-a343-b318ec3f692f",
   "metadata": {},
   "source": [
    "### A prior for the transitions\n",
    "\n",
    "For every state type (e.g. match) there is a specific transition distribution to other states. In the edge cases some probabilities can be 0. We regularize these distributions with a dirichlet prior. Here we train such a prior again using Pfam and the HMM models it provides.\n",
    "\n",
    "Specifically we estimate these dirichlet priors:\n",
    "- for match states (MM, MI, MD)\n",
    "- for insertion states (II, IM)\n",
    "- for delete states (DD, DM)\n",
    "\n",
    "Dirichlet priors for entry, exit, repeat and flaking states are manually chosen."
   ]
  },
  {
   "cell_type": "code",
   "execution_count": 6,
   "id": "9dc86f3d-311c-4b1b-866a-8c3ce0ebcccc",
   "metadata": {},
   "outputs": [],
   "source": [
    "def train_transition_prior(name, \n",
    "                           train_dataset, \n",
    "                           test_dataset, \n",
    "                           num_runs = 5,\n",
    "                           num_components = [1,2,3,5],\n",
    "                           dtypes = [tf.float32, tf.float64],\n",
    "                               batch_size = 512):\n",
    "    for k,d in itertools.product(num_components, dtypes):\n",
    "        models = []\n",
    "        for _ in range(num_runs):\n",
    "            dm_layer = msa_hmm.dm.DirichletMixtureLayer(num_components = k,\n",
    "                                                        alphabet_size = train_dataset.shape[1],\n",
    "                                                        use_dirichlet_process = False,\n",
    "                                                        dtype = d)\n",
    "            model = msa_hmm.dm.make_model(dm_layer)\n",
    "            model.compile(tf.optimizers.Adam(1e-2))\n",
    "            callback = tf.keras.callbacks.EarlyStopping(monitor='loss', patience=3)\n",
    "            history = model.fit(train_dataset, epochs = 1000, verbose = 1, batch_size=batch_size, callbacks=[callback])\n",
    "            loglik = tf.reduce_mean(model.predict(test_dataset, batch_size=batch_size)).numpy()\n",
    "            models.append((loglik, model))\n",
    "        best = max(models)[1]\n",
    "        model_name = \"_\".join([name, str(k), d.name]) + \"/ckpt\"\n",
    "        best.save_weights(prior_dir + \"transition_priors/\"+model_name)\n",
    "        tf.keras.backend.clear_session()"
   ]
  },
  {
   "cell_type": "code",
   "execution_count": null,
   "id": "9fdfef35-67f2-4cda-89ee-3225eced50d7",
   "metadata": {},
   "outputs": [],
   "source": [
    "train_transition_prior(\"match_prior\", match_dists_train, match_dists_test)"
   ]
  },
  {
   "cell_type": "code",
   "execution_count": null,
   "id": "766d80c9-ffeb-43ec-8fa9-bbe88a5198b2",
   "metadata": {},
   "outputs": [],
   "source": [
    "train_transition_prior(\"insert_prior\", insert_dists_train, insert_dists_test)"
   ]
  },
  {
   "cell_type": "code",
   "execution_count": null,
   "id": "8ef1cc46-1387-4dbe-b1ab-e0dc4c7f632b",
   "metadata": {},
   "outputs": [],
   "source": [
    "train_transition_prior(\"delete_prior\", delete_dists_train, delete_dists_test)"
   ]
  },
  {
   "cell_type": "code",
   "execution_count": 15,
   "id": "a045f4e9-e2e5-48c0-901e-ec70862f9779",
   "metadata": {},
   "outputs": [
    {
     "name": "stdout",
     "output_type": "stream",
     "text": [
      "alpha(match_prior)=\n",
      " [[5.3009667e+00 4.4679147e-01 4.1478762e-01]\n",
      " [4.7267957e+02 6.1485915e+00 3.2890594e+00]]\n",
      "mix(match_prior)=\n",
      " [0.13333601 0.866664  ]\n",
      "alpha(insert_prior)=\n",
      " [[1.5672164e+00 1.7381232e+00]\n",
      " [3.8279668e+04 3.2850250e+04]]\n",
      "mix(insert_prior)=\n",
      " [0.05507373 0.9449262 ]\n",
      "alpha(delete_prior)=\n",
      " [[1.9310432e+04 1.2077352e+04]\n",
      " [8.9107952e+00 7.2740235e+00]]\n",
      "mix(delete_prior)=\n",
      " [0.78462243 0.21537758]\n"
     ]
    }
   ],
   "source": [
    "def summarize_prior(name = \"match_prior\", num_components = 2, dim=3, dtype = tf.float32):\n",
    "    model_path = prior_dir + \"transition_priors/\" + \"_\".join([name, str(num_components), dtype.name, \"/ckpt\"])\n",
    "    model = msa_hmm.dm.load_mixture_model(model_path, num_components, dim)\n",
    "    dirichlet_layer = model.layers[-1]\n",
    "    print(f\"alpha({name})=\\n\", dirichlet_layer.make_alpha().numpy())\n",
    "    print(f\"mix({name})=\\n\", dirichlet_layer.make_mix().numpy())\n",
    "    \n",
    "summarize_prior(\"match_prior\", num_components=2, dim=3)\n",
    "summarize_prior(\"insert_prior\", num_components=2, dim=2)\n",
    "summarize_prior(\"delete_prior\", num_components=2, dim=2)"
   ]
  },
  {
   "cell_type": "code",
   "execution_count": null,
   "id": "5a115f79-97a8-462b-ac56-c959f7854844",
   "metadata": {},
   "outputs": [],
   "source": []
  }
 ],
 "metadata": {
  "kernelspec": {
   "display_name": "Python 3",
   "language": "python",
   "name": "python3"
  },
  "language_info": {
   "codemirror_mode": {
    "name": "ipython",
    "version": 3
   },
   "file_extension": ".py",
   "mimetype": "text/x-python",
   "name": "python",
   "nbconvert_exporter": "python",
   "pygments_lexer": "ipython3",
   "version": "3.9.2"
  }
 },
 "nbformat": 4,
 "nbformat_minor": 5
}
