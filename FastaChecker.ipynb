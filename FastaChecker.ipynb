{
 "cells": [
  {
   "cell_type": "code",
   "execution_count": 3,
   "id": "340849f4-defa-4fe2-8e06-5ef721533d84",
   "metadata": {},
   "outputs": [],
   "source": [
    "import numpy as np\n",
    "from matplotlib import pyplot as plt\n",
    "import sys\n",
    "sys.path.append('../learnMSA')\n",
    "from learnMSA import msa_hmm"
   ]
  },
  {
   "cell_type": "code",
   "execution_count": 8,
   "id": "3f378c2f-a7d7-4d93-be1b-ae2b34d37b3d",
   "metadata": {},
   "outputs": [],
   "source": [
    "def check_fam(family, \n",
    "                 dataset=\"homfam\", \n",
    "                 bins=100,\n",
    "                 q=0.75):\n",
    "    fasta_file = msa_hmm.fasta.Fasta(\"data/\"+dataset+\"/train/\"+family+\".fasta\")\n",
    "    ref_fasta_file = msa_hmm.fasta.Fasta(\"data/\"+dataset+\"/refs/\"+family+\".ref\")\n",
    "    x = fasta_file.seq_lens\n",
    "    print(np.amax(fasta_file.seq_lens))\n",
    "    plt.hist(x, density=False, bins=bins);  \n",
    "    plt.xlabel(\"Seq. length\")\n",
    "    plt.ylabel(\"Number of seq.\")\n",
    "    median, q25, q75= np.percentile(x, 50), np.percentile(x, 25), np.percentile(x, 75)\n",
    "    plt.axvline(x = median, color = 'r', label = \"median\")\n",
    "    plt.axvline(x = q25, color = 'r', label = \"q25\")\n",
    "    plt.axvline(x = q75, color = 'r', label = \"q75\")\n",
    "    for sid, length in zip(ref_fasta_file.seq_ids, ref_fasta_file.seq_lens):\n",
    "        plt.axvline(x = length, color = 'g', label = sid)"
   ]
  },
  {
   "cell_type": "code",
   "execution_count": 9,
   "id": "d0cef74d-6019-4d0c-87af-b68ee322b3b9",
   "metadata": {},
   "outputs": [
    {
     "name": "stdout",
     "output_type": "stream",
     "text": [
      "513\n"
     ]
    },
    {
     "data": {
      "image/png": "[encoded data removed]",
      "text/plain": [
       "<Figure size 432x288 with 1 Axes>"
      ]
     },
     "metadata": {
      "needs_background": "light"
     },
     "output_type": "display_data"
    }
   ],
   "source": [
    "check_fam(\"PF00232.frag\", \"balifrag\")"
   ]
  },
  {
   "cell_type": "code",
   "execution_count": null,
   "id": "3a4ed9d1-9e8d-471d-83b0-b2c1cd2ddd8b",
   "metadata": {},
   "outputs": [],
   "source": []
  }
 ],
 "metadata": {
  "kernelspec": {
   "display_name": "Python 3",
   "language": "python",
   "name": "python3"
  },
  "language_info": {
   "codemirror_mode": {
    "name": "ipython",
    "version": 3
   },
   "file_extension": ".py",
   "mimetype": "text/x-python",
   "name": "python",
   "nbconvert_exporter": "python",
   "pygments_lexer": "ipython3",
   "version": "3.9.2"
  }
 },
 "nbformat": 4,
 "nbformat_minor": 5
}
