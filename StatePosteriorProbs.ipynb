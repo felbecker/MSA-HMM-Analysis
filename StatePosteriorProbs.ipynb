{
 "cells": [
  {
   "cell_type": "code",
   "execution_count": 1,
   "id": "cb4d38c1-d218-4c78-8d15-14d8eb84aad5",
   "metadata": {},
   "outputs": [],
   "source": [
    "import os\n",
    "os.environ[\"CUDA_VISIBLE_DEVICES\"] = \"0\"\n",
    "import sys\n",
    "sys.path.append('../learnMSA')\n",
    "from learnMSA import msa_hmm\n",
    "import tensorflow as tf\n",
    "from matplotlib import pyplot as plt\n",
    "import seaborn as sns\n",
    "import time"
   ]
  },
  {
   "cell_type": "code",
   "execution_count": 2,
   "id": "92a3c8f1-e478-4e18-9486-a6f57946ec61",
   "metadata": {},
   "outputs": [
    {
     "name": "stdout",
     "output_type": "stream",
     "text": [
      "Training of 1  models on file egf.fasta\n",
      "Configuration:\n",
      "num_models : 1 , transitioner : ProfileHMMTransitioner(transition_init={'begin_to_match': <learnMSA.msa_hmm.Initializers.EntryInitializer object at 0x7f09746f4bb0>, 'match_to_end': <learnMSA.msa_hmm.Initializers.ExitInitializer object at 0x7f09746f4e50>, 'match_to_match': <learnMSA.msa_hmm.Initializers.MatchTransitionInitializer object at 0x7f09746f4ac0>, 'match_to_insert': <learnMSA.msa_hmm.Initializers.MatchTransitionInitializer object at 0x7f09746f4d90>, 'insert_to_match': <tensorflow.python.ops.init_ops_v2.RandomNormal object at 0x7f09746f4130>, 'insert_to_insert': <tensorflow.python.ops.init_ops_v2.RandomNormal object at 0x7f09746f4e80>, 'match_to_delete': <learnMSA.msa_hmm.Initializers.MatchTransitionInitializer object at 0x7f09767a4e20>, 'delete_to_match': <tensorflow.python.ops.init_ops_v2.RandomNormal object at 0x7f09767a4d60>, 'delete_to_delete': <tensorflow.python.ops.init_ops_v2.RandomNormal object at 0x7f09767293a0>, 'left_flank_loop': <tensorflow.python.ops.init_ops_v2.RandomNormal object at 0x7f0976729820>, 'left_flank_exit': <tensorflow.python.ops.init_ops_v2.RandomNormal object at 0x7f0976729760>, 'right_flank_loop': <tensorflow.python.ops.init_ops_v2.RandomNormal object at 0x7f093ccda6a0>, 'right_flank_exit': <tensorflow.python.ops.init_ops_v2.RandomNormal object at 0x7f093ccda550>, 'unannotated_segment_loop': <tensorflow.python.ops.init_ops_v2.RandomNormal object at 0x7f093ccda4c0>, 'unannotated_segment_exit': <tensorflow.python.ops.init_ops_v2.RandomNormal object at 0x7f093ccda5e0>, 'end_to_unannotated_segment': <tensorflow.python.ops.init_ops_v2.RandomNormal object at 0x7f093ccda790>, 'end_to_right_flank': <tensorflow.python.ops.init_ops_v2.RandomNormal object at 0x7f093ccda850>, 'end_to_terminal': <tensorflow.python.ops.init_ops_v2.RandomNormal object at 0x7f093ccda910>}, flank_init=<tensorflow.python.keras.initializers.initializers_v2.Zeros object at 0x7f09746f4eb0>, prior=ProfileHMMTransitionPrior(match_comp=1, insert_comp=1, delete_comp=1, alpha_flank=7000, alpha_single=1000000000.0, alpha_frag=10000.0), frozen_kernels={}) , emitter : ProfileHMMEmitter(emission_init=<learnMSA.msa_hmm.Initializers.EmissionInitializer object at 0x7f093ccdafa0>, insertion_init=<tensorflow.python.ops.init_ops_v2.Constant object at 0x7f093ccdaf40>, prior=AminoAcidPrior(comp_count=1), frozen_insertions=True, )\n",
      " , max_surgery_runs : 4 , length_init_quantile : 0.5 , surgery_quantile : 0.5\n",
      " , min_surgery_seqs : 10000.0 , len_mul : 0.8 , batch_size : adaptive\n",
      " , learning_rate : 0.1 , epochs : [10, 2, 10] , use_prior : True\n",
      " , dirichlet_mix_comp_count : 1 , use_anc_probs : True , trainable_rate_matrices : False\n",
      " , encoder_initializer : [<tensorflow.python.ops.init_ops_v2.Constant object at 0x7f09746f42e0>, <tensorflow.python.ops.init_ops_v2.Constant object at 0x7f07070a1340>, <tensorflow.python.ops.init_ops_v2.Constant object at 0x7f07070a13a0>] , surgery_del : 0.5 , surgery_ins : 0.5\n",
      " , num_rate_matrices : 1 , per_matrix_rate : False , matrix_rate_l2 : 0.0\n",
      " , shared_rate_matrix : False , equilibrium_sample : False , transposed : False\n",
      "\n",
      "Fitting models of lengths [24] on 7774 sequences.\n",
      "Batch size= 512 Learning rate= 0.1\n",
      "Using 1 GPUs.\n",
      "Epoch 1/10\n",
      "17/17 - 4s - loss: 96.6692 - loglik: -9.2512e+01 - logprior: -4.1569e+00\n",
      "Epoch 2/10\n",
      "17/17 - 1s - loss: 74.6253 - loglik: -7.3097e+01 - logprior: -1.5283e+00\n",
      "Epoch 3/10\n",
      "17/17 - 1s - loss: 65.2386 - loglik: -6.3648e+01 - logprior: -1.5907e+00\n",
      "Epoch 4/10\n",
      "17/17 - 1s - loss: 63.6795 - loglik: -6.2079e+01 - logprior: -1.6003e+00\n",
      "Epoch 5/10\n",
      "17/17 - 1s - loss: 63.2401 - loglik: -6.1730e+01 - logprior: -1.5097e+00\n",
      "Epoch 6/10\n",
      "17/17 - 1s - loss: 62.9807 - loglik: -6.1456e+01 - logprior: -1.5247e+00\n",
      "Epoch 7/10\n",
      "17/17 - 1s - loss: 62.9112 - loglik: -6.1402e+01 - logprior: -1.5097e+00\n",
      "Epoch 8/10\n",
      "17/17 - 1s - loss: 62.8813 - loglik: -6.1382e+01 - logprior: -1.4992e+00\n",
      "Epoch 9/10\n",
      "17/17 - 1s - loss: 62.8465 - loglik: -6.1353e+01 - logprior: -1.4933e+00\n",
      "Epoch 10/10\n",
      "17/17 - 1s - loss: 62.8126 - loglik: -6.1326e+01 - logprior: -1.4864e+00\n",
      "expansions model 0: [(7, 1), (10, 1), (11, 2), (12, 3), (13, 1), (16, 1), (18, 1)]\n",
      "discards model 0: [0]\n",
      "Re-initialized the encoder parameters.\n",
      "Fitting models of lengths [33] on 7774 sequences.\n",
      "Batch size= 512 Learning rate= 0.1\n",
      "Using 1 GPUs.\n",
      "Epoch 1/2\n",
      "17/17 - 3s - loss: 69.8892 - loglik: -6.4622e+01 - logprior: -5.2675e+00\n",
      "Epoch 2/2\n",
      "17/17 - 1s - loss: 61.7541 - loglik: -5.9284e+01 - logprior: -2.4697e+00\n",
      "expansions model 0: [(0, 1)]\n",
      "discards model 0: [12 16]\n",
      "Re-initialized the encoder parameters.\n",
      "Fitting models of lengths [32] on 7774 sequences.\n",
      "Batch size= 512 Learning rate= 0.1\n",
      "Using 1 GPUs.\n",
      "Epoch 1/2\n",
      "17/17 - 3s - loss: 61.3045 - loglik: -5.6728e+01 - logprior: -4.5769e+00\n",
      "Epoch 2/2\n",
      "17/17 - 1s - loss: 57.8129 - loglik: -5.6255e+01 - logprior: -1.5583e+00\n",
      "expansions model 0: []\n",
      "discards model 0: [0]\n",
      "Re-initialized the encoder parameters.\n",
      "Fitting models of lengths [31] on 7774 sequences.\n",
      "Batch size= 512 Learning rate= 0.1\n",
      "Using 1 GPUs.\n",
      "Epoch 1/10\n",
      "17/17 - 3s - loss: 62.8444 - loglik: -5.8300e+01 - logprior: -4.5441e+00\n",
      "Epoch 2/10\n",
      "17/17 - 1s - loss: 58.4618 - loglik: -5.6878e+01 - logprior: -1.5836e+00\n",
      "Epoch 3/10\n",
      "17/17 - 1s - loss: 57.8806 - loglik: -5.6522e+01 - logprior: -1.3583e+00\n",
      "Epoch 4/10\n",
      "17/17 - 1s - loss: 57.9665 - loglik: -5.6683e+01 - logprior: -1.2837e+00\n",
      "Fitted models with MAP estimates =  -57.7303\n",
      "Time for alignment: 30.0833\n",
      "Computed alignments with likelihoods (priors):  ['-56.4309 (-1.2994)']\n",
      "Best model:  0 (0-based)\n",
      "time for generating output: 0.9173\n",
      "Wrote file results/egf_test.fasta\n"
     ]
    }
   ],
   "source": [
    "train_filename = \"data/homfam/train/egf.fasta\"\n",
    "out_filename = \"results/egf_test.fasta\"\n",
    "num_models = 1\n",
    "config = msa_hmm.config.make_default(num_models)\n",
    "alignment = msa_hmm.align.run_learnMSA(train_filename, out_filename, config, verbose=True)"
   ]
  },
  {
   "cell_type": "code",
   "execution_count": 3,
   "id": "30e6f7b5-42ef-419c-bc52-d8650bd85942",
   "metadata": {},
   "outputs": [],
   "source": [
    "fasta_file = msa_hmm.fasta.Fasta(train_filename)\n",
    "batch_gen = msa_hmm.train.DefaultBatchGenerator(fasta_file, alignment.num_models)\n",
    "indices = tf.range(fasta_file.num_seq, dtype=tf.int64)"
   ]
  },
  {
   "cell_type": "code",
   "execution_count": 6,
   "id": "65629291-9507-4f9f-993d-30bab78f77b2",
   "metadata": {},
   "outputs": [],
   "source": [
    "p = msa_hmm.align.get_state_expectations(fasta_file,\n",
    "                                batch_gen,\n",
    "                                indices,\n",
    "                                128,\n",
    "                                alignment.msa_hmm_layer,\n",
    "                                alignment.encoder_model)"
   ]
  },
  {
   "cell_type": "code",
   "execution_count": 7,
   "id": "ea2d4b3e-ad3d-40f7-a51c-cb6ada712238",
   "metadata": {},
   "outputs": [
    {
     "data": {
      "image/png": "[encoded data removed]",
      "text/plain": [
       "<Figure size 1152x720 with 1 Axes>"
      ]
     },
     "metadata": {
      "needs_background": "light"
     },
     "output_type": "display_data"
    }
   ],
   "source": [
    "model_index = 0\n",
    "no_terminal_state = True\n",
    "f, ax = plt.subplots(1,1)\n",
    "f.set_size_inches(16,10)\n",
    "ax.set_title(f\"Expected number of state occurences averaged over {indices.shape[0]} sequences\")\n",
    "num_matches = alignment.msa_hmm_layer.cell.length[model_index]\n",
    "num_states = alignment.msa_hmm_layer.cell.num_states[model_index]\n",
    "state_names = [\"L\"]+[f\"M{i}\" for i in range(num_matches)]+[f\"I{i}\" for i in range(num_matches-1)]+[\"C\",\"R\",\"T\"]\n",
    "sns.barplot(x=state_names[:num_states-no_terminal_state], y=p[model_index][:num_states-no_terminal_state], ax=ax)\n",
    "plt.xticks(rotation=90);\n",
    "plt.savefig(\"fig/expected_states.pdf\", bbox_inches='tight')"
   ]
  }
 ],
 "metadata": {
  "kernelspec": {
   "display_name": "Python 3",
   "language": "python",
   "name": "python3"
  },
  "language_info": {
   "codemirror_mode": {
    "name": "ipython",
    "version": 3
   },
   "file_extension": ".py",
   "mimetype": "text/x-python",
   "name": "python",
   "nbconvert_exporter": "python",
   "pygments_lexer": "ipython3",
   "version": "3.9.2"
  }
 },
 "nbformat": 4,
 "nbformat_minor": 5
}
