{
 "cells": [
  {
   "cell_type": "code",
   "execution_count": 1,
   "id": "87283744-7157-4aa9-850e-d1bb0f7cbcd6",
   "metadata": {},
   "outputs": [
    {
     "name": "stdout",
     "output_type": "stream",
     "text": [
      "Defaulting to user installation because normal site-packages is not writeable\n",
      "Collecting fair-esm\n",
      "  Downloading fair_esm-2.0.0-py3-none-any.whl (93 kB)\n",
      "\u001b[2K     \u001b[90m━━━━━━━━━━━━━━━━━━━━━━━━━━━━━━━━━━━━━━━━\u001b[0m \u001b[32m93.1/93.1 kB\u001b[0m \u001b[31m2.4 MB/s\u001b[0m eta \u001b[36m0:00:00\u001b[0m00:01\u001b[0m\n",
      "\u001b[?25hInstalling collected packages: fair-esm\n",
      "Successfully installed fair-esm-2.0.0\n"
     ]
    }
   ],
   "source": [
    "!pip install fair-esm"
   ]
  },
  {
   "cell_type": "code",
   "execution_count": 3,
   "id": "0667e323-d431-41bc-8a91-cb31969e6405",
   "metadata": {},
   "outputs": [
    {
     "name": "stdout",
     "output_type": "stream",
     "text": [
      "Cloning into 'esm'...\n",
      "remote: Enumerating objects: 1179, done.\u001b[K\n",
      "remote: Counting objects: 100% (1179/1179), done.\u001b[K\n",
      "remote: Compressing objects: 100% (463/463), done.\u001b[K\n",
      "remote: Total 1179 (delta 748), reused 1084 (delta 700), pack-reused 0\u001b[K\n",
      "Receiving objects: 100% (1179/1179), 11.47 MiB | 9.81 MiB/s, done.\n",
      "Resolving deltas: 100% (748/748), done.\n"
     ]
    }
   ],
   "source": [
    "!git clone https://github.com/facebookresearch/esm"
   ]
  },
  {
   "cell_type": "code",
   "execution_count": 4,
   "id": "6cddc43d-7c08-46a2-b0b7-12678080b699",
   "metadata": {},
   "outputs": [],
   "source": [
    "import os\n",
    "\n",
    "datasets = [\"homfam\", \"balifam100\", \"balifam10000\", \"balifrag\"]"
   ]
  },
  {
   "cell_type": "code",
   "execution_count": null,
   "id": "b48bed75-c0e0-4e64-9280-9d2405803e4d",
   "metadata": {},
   "outputs": [],
   "source": [
    "for dataset in datasets:\n",
    "    !mkdir -p {dataset}\n",
    "    for file in os.listdir(\"../../data/\"+dataset+\"/train\"):\n",
    "        if file.endswith(\".fasta\"):\n",
    "            family = \".\".join(file.split(\".\")[:-1])\n",
    "            !python esm/scripts/extract.py esm2_t36_3B_UR50D ../../data/{dataset}/train/{family}.fasta {dataset}/{family} --include per_tok >> log.txt"
   ]
  },
  {
   "cell_type": "code",
   "execution_count": null,
   "id": "ad5c1361-3a06-422c-a070-fa3438045e8c",
   "metadata": {},
   "outputs": [],
   "source": [
    "import torch\n",
    "import sys\n",
    "sys.path.append('../../../learnMSA')\n",
    "from learnMSA import msa_hmm\n",
    "import numpy as np\n",
    "\n",
    "for dataset in datasets:\n",
    "    path = \"../../data/\"+dataset+\"/train/\"\n",
    "    for file in os.listdir(path):\n",
    "        if file.endswith(\".fasta\"):\n",
    "            family = \".\".join(file.split(\".\")[:-1])\n",
    "            fasta_file = msa_hmm.fasta.Fasta(path+file)\n",
    "            for seqid in fasta_file.seq_ids:\n",
    "                emb = torch.load(f\"{dataset}/{family}/{seqid}.pt\")\n",
    "                emb_np = emb[\"representations\"][36].detach().numpy()\n",
    "                np.save(f\"{dataset}/{family}/{seqid}\", emb_np)"
   ]
  },
  {
   "cell_type": "code",
   "execution_count": 26,
   "id": "ce72f545-1cfb-486f-b049-38791e57447c",
   "metadata": {},
   "outputs": [
    {
     "name": "stdout",
     "output_type": "stream",
     "text": [
      "Downloading: \"https://dl.fbaipublicfiles.com/fair-esm/models/esm2_t36_3B_UR50D.pt\" to /home/jovyan/.cache/torch/hub/checkpoints/esm2_t36_3B_UR50D.pt\n",
      "Downloading: \"https://dl.fbaipublicfiles.com/fair-esm/regression/esm2_t36_3B_UR50D-contact-regression.pt\" to /home/jovyan/.cache/torch/hub/checkpoints/esm2_t36_3B_UR50D-contact-regression.pt\n"
     ]
    }
   ],
   "source": [
    "!python esm/scripts/extract.py esm2_t36_3B_UR50D ../../data/homfam/train/egf.fasta homfam/egf --include per_tok >> log.txt"
   ]
  },
  {
   "cell_type": "code",
   "execution_count": 1,
   "id": "43f06fca-9f28-41a5-9462-1660940c2842",
   "metadata": {},
   "outputs": [],
   "source": [
    "!rm -r ~/.cache"
   ]
  },
  {
   "cell_type": "code",
   "execution_count": null,
   "id": "86a6aae9-429f-4b04-9c95-6b1db1a5fb7b",
   "metadata": {},
   "outputs": [],
   "source": []
  }
 ],
 "metadata": {
  "kernelspec": {
   "display_name": "Python 3",
   "language": "python",
   "name": "python3"
  },
  "language_info": {
   "codemirror_mode": {
    "name": "ipython",
    "version": 3
   },
   "file_extension": ".py",
   "mimetype": "text/x-python",
   "name": "python",
   "nbconvert_exporter": "python",
   "pygments_lexer": "ipython3",
   "version": "3.9.2"
  }
 },
 "nbformat": 4,
 "nbformat_minor": 5
}
