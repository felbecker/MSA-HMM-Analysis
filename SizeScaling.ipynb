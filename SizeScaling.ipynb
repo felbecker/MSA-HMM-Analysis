{
 "cells": [
  {
   "cell_type": "code",
   "execution_count": 1,
   "id": "75c01691-2d91-42c7-b7f5-170ee350eb38",
   "metadata": {},
   "outputs": [],
   "source": [
    "import os\n",
    "import sys\n",
    "sys.path.insert(0, '../MSA-HMM')\n",
    "import msa_hmm\n",
    "import numpy as np\n",
    "import matplotlib.pyplot as plt"
   ]
  },
  {
   "cell_type": "code",
   "execution_count": 2,
   "id": "59cd6f4b-6584-4818-b672-b16571b98c96",
   "metadata": {},
   "outputs": [],
   "source": [
    "fasta_files = []\n",
    "ref_fasta_files = []\n",
    "train_path = \"data/large/train/\" \n",
    "refs_path = \"data/large/refs/\" \n",
    "for file in os.listdir(os.fsencode(train_path)):\n",
    "    filename = os.fsdecode(file)\n",
    "    if filename.endswith(\".fasta\"):\n",
    "        fasta = msa_hmm.fasta.Fasta(train_path+filename, gaps=False, contains_lower_case=True)\n",
    "        ref_fasta = msa_hmm.fasta.Fasta(refs_path+filename[:-6]+\".ref\", gaps=True, contains_lower_case=True)\n",
    "        fasta_files.append(fasta)\n",
    "        ref_fasta_files.append(ref_fasta)"
   ]
  },
  {
   "cell_type": "code",
   "execution_count": 3,
   "id": "25cfdd6b-73bb-4709-b186-4681ed9c5da3",
   "metadata": {},
   "outputs": [
    {
     "name": "stdout",
     "output_type": "stream",
     "text": [
      "62\n",
      "1465\n",
      "55\n",
      "48\n",
      "192\n",
      "98\n",
      "38\n",
      "159\n",
      "184\n",
      "52\n"
     ]
    }
   ],
   "source": [
    "for ref_fasta in ref_fasta_files:\n",
    "    print(ref_fasta.num_seq)"
   ]
  },
  {
   "cell_type": "code",
   "execution_count": 4,
   "id": "88b37517-484d-4e37-b8fe-4608597d3a9c",
   "metadata": {},
   "outputs": [],
   "source": [
    "np.random.seed(94) \n",
    "\n",
    "num_samples = 10\n",
    "subset_sizes = [int(i) for i in [1500, 1e4, 2e4, 5e4, 1e5, 2e5, 3e5, 5e5]]\n",
    "      \n",
    "def sample_subset(fasta, ref_fasta, old_indices, subset_size):\n",
    "    assert subset_size < old_indices.size, \"The sampled subset has to be smaller than the old subset.\"\n",
    "    ref_indices = np.array([fasta.seq_ids.index(sid) for sid in ref_fasta.seq_ids])\n",
    "    for i in ref_indices:\n",
    "        assert np.where(old_indices == i)[0].size == 1, f\"Ref. index {i} is either not at all or multiple times in the old indices array.\"\n",
    "    homolog_indices = np.setdiff1d(old_indices, ref_indices)\n",
    "    homolog_subset = np.random.choice(homolog_indices, size=subset_size-ref_indices.size, replace=False)\n",
    "    return np.concatenate([ref_indices, homolog_subset], axis=0)\n",
    "        \n",
    "    \n",
    "subsets = []\n",
    "for fasta, ref_fasta in zip(fasta_files, ref_fasta_files):\n",
    "    indices = [ [np.arange(fasta.num_seq) for _ in range(num_samples)] ]\n",
    "    for size in reversed(subset_sizes):\n",
    "        indices.append([])\n",
    "        for ind in indices[-2]:\n",
    "            subset = sample_subset(fasta, ref_fasta, ind, size)\n",
    "            indices[-1].append(subset)\n",
    "    subsets.append(indices[1:])"
   ]
  },
  {
   "cell_type": "code",
   "execution_count": 5,
   "id": "92eea590-98b9-448c-92f8-d17dac7b26f7",
   "metadata": {},
   "outputs": [],
   "source": [
    "def make_paths(fasta, subset, k):\n",
    "    filename = os.path.splitext(os.path.basename(fasta.filename))[0]\n",
    "    subset_fasta_path = f\"results/size_scaling/subset_fasta/{filename}_{subset.size}_{k}.fasta\"\n",
    "    out_filepath = f\"results/size_scaling/subset_alignments/{filename}_{subset.size}_{k}.fasta\"\n",
    "    return subset_fasta_path, out_filepath\n",
    "    \n",
    "\n",
    "def gen_fasta(fasta, subset, k):\n",
    "    subset_fasta_path, _ = make_paths(fasta, subset, k)\n",
    "    with open(subset_fasta_path, \"w\") as subset_fasta:\n",
    "        for i in subset:\n",
    "            subset_fasta.write(\">\"+fasta.seq_ids[i]+\"\\n\")\n",
    "            subset_fasta.write(fasta.aminoacid_seq_str(i)+\"\\n\")\n",
    "\n",
    "def align_subset(fasta, subset, k):\n",
    "    subset_fasta_path, out_filepath = make_paths(fasta, subset, k)\n",
    "    if not os.path.exists(out_filepath):\n",
    "        subset_fasta = msa_hmm.fasta.Fasta(subset_fasta_path, \n",
    "                                     gaps=False, \n",
    "                                     contains_lower_case=True)  \n",
    "        results = msa_hmm.align.fit_and_align_n(subset_fasta, \n",
    "                                                num_runs=1,\n",
    "                                                config=msa_hmm.config.default,\n",
    "                                                subset=None)\n",
    "        best = np.argmax([ll for ll,_ in results])\n",
    "        best_ll, best_alignment = results[best]\n",
    "        best_alignment.to_file(out_filepath)"
   ]
  },
  {
   "cell_type": "code",
   "execution_count": null,
   "id": "810c1526-d696-47dc-98a6-f6e1eb217cce",
   "metadata": {
    "tags": []
   },
   "outputs": [],
   "source": [
    "#generate sampled files \n",
    "for fasta, subsets_by_size in zip(fasta_files, subsets):\n",
    "    for subset_by_size in subsets_by_size:\n",
    "        for k, sample in enumerate(subset_by_size):\n",
    "            gen_fasta(fasta, sample, k)"
   ]
  },
  {
   "cell_type": "code",
   "execution_count": null,
   "id": "b4fe2721-7586-4eea-bfa6-0042e1596934",
   "metadata": {},
   "outputs": [
    {
     "name": "stdout",
     "output_type": "stream",
     "text": [
      "Training of 1 independent models on file PF07690.19_500000_0.fasta\n",
      "Configuration:\n",
      "transition_init : default , flank_init : default , emission_init : background\n",
      " , alpha_flank : 7000 , alpha_single : 1000000000.0 , alpha_frag : 10000.0\n",
      " , max_surgery_runs : 4 , length_init_quantile : 0.5 , surgery_quantile : 0.5\n",
      " , min_surgery_seqs : 10000.0 , len_mul : 0.8 , batch_size : adaptive\n",
      " , use_prior : True , dirichlet_mix_comp_count : 1 , use_anc_probs : True\n",
      " , tau_init : 0.0 , keep_tau : False\n",
      "500000 sequences of max. length 544\n",
      "Fitting a model of length 250 on 250000 sequences\n",
      "Batch size= 256 Learning rate= 0.1\n",
      "Using 2 GPUs.\n",
      "Epoch 1/2\n",
      "488/488 - 179s - loss: 913.4481 - loglik: -9.1319e+02 - logprior: -2.5538e-01\n",
      "Epoch 2/2\n",
      "488/488 - 170s - loss: 907.1436 - loglik: -9.0691e+02 - logprior: -2.3190e-01\n"
     ]
    }
   ],
   "source": [
    "#align them with learnMSA\n",
    "for fasta, subsets_by_size in zip(fasta_files, subsets):\n",
    "    for subset_by_size in subsets_by_size:\n",
    "        for k, sample in enumerate(subset_by_size):\n",
    "            align_subset(fasta, sample, k)"
   ]
  },
  {
   "cell_type": "markdown",
   "id": "edfa1b00-0c48-438a-9676-e9dbb5a5b52f",
   "metadata": {},
   "source": [
    "### Plots"
   ]
  },
  {
   "cell_type": "code",
   "execution_count": 19,
   "id": "b98adc51-0ce1-4208-a95c-d36785eefff7",
   "metadata": {},
   "outputs": [],
   "source": [
    "def load_results(results_file):\n",
    "    results = {}\n",
    "    with open(results_file, \"r\") as file:\n",
    "        for line in file.readlines():\n",
    "            line = line.rstrip().split()\n",
    "            if len(line) == 5:\n",
    "                results[line[0]] = [max(0., float(line[i+1])) for i in range(4)]\n",
    "    #check for missing files\n",
    "    missing = 0\n",
    "    for fasta, subsets_by_size in zip(fasta_files, subsets):\n",
    "        for subset_by_size in subsets_by_size:\n",
    "            for k, sample in enumerate(subset_by_size):\n",
    "                filename = os.path.splitext(os.path.basename(fasta.filename))[0]\n",
    "                key = f\"{filename}_{sample.size}_{k}\"\n",
    "                if not key in results:\n",
    "                    #print(\"Missing\", key)\n",
    "                    missing+=1\n",
    "    print(f\"{missing} files missing: {results_file}\")\n",
    "    return results"
   ]
  },
  {
   "cell_type": "code",
   "execution_count": 20,
   "id": "4c781564-8de1-48cb-af73-ab44cfd17766",
   "metadata": {},
   "outputs": [
    {
     "data": {
      "text/plain": [
       "['PF13855.9',\n",
       " 'PF00400.35',\n",
       " 'PF00005.30',\n",
       " 'PF07679.19',\n",
       " 'PF07690.19',\n",
       " 'PF00041.24',\n",
       " 'PF00069.28',\n",
       " 'PF00096.29',\n",
       " 'PF12796.10',\n",
       " 'PF00072.27']"
      ]
     },
     "execution_count": 20,
     "metadata": {},
     "output_type": "execute_result"
    }
   ],
   "source": [
    "filenames = [os.path.splitext(os.path.basename(fasta.filename))[0] for fasta in fasta_files]\n",
    "filenames"
   ]
  },
  {
   "cell_type": "code",
   "execution_count": 23,
   "id": "ec267959-98b6-4da2-a800-9aaf9caa55da",
   "metadata": {},
   "outputs": [
    {
     "name": "stdout",
     "output_type": "stream",
     "text": [
      "0 files missing: results/size_scaling/learnMSA.out\n",
      "0 files missing: results/size_scaling/mafft.out\n",
      "62 files missing: results/size_scaling/reg.out\n"
     ]
    },
    {
     "data": {
      "image/png": "[encoded data removed]",
      "text/plain": [
       "<Figure size 720x360 with 1 Axes>"
      ]
     },
     "metadata": {
      "needs_background": "light"
     },
     "output_type": "display_data"
    }
   ],
   "source": [
    "#filenames = [\"PF00400.35\", \"PF00005.30\", \"PF07679.19\", \"PF00041.24\", \"PF00096.29\", \"PF00072.27\"]\n",
    "\n",
    "msa_method_keys = [\"learnMSA\", \"mafft\", \"reg\"]\n",
    "msa_method_names = [\"learnMSA\", \"MAFFT\", \"T-Coffee\"]\n",
    "msa_method_colors = [\"mediumturquoise\", \"yellowgreen\", \"plum\"] \n",
    "\n",
    "differential = True\n",
    "treat_missing_as_zero_score = True\n",
    "\n",
    "def get_avg(method, score_type = 0):\n",
    "    results = load_results(\"results/size_scaling/\"+method+\".out\")\n",
    "    results_avg = []\n",
    "    results_sd = []\n",
    "    found = []\n",
    "    for s in subset_sizes:\n",
    "        scores = []\n",
    "        f = 0\n",
    "        for filename in filenames:\n",
    "            scores.append([])\n",
    "            for k in range(num_samples):\n",
    "                key = f\"{filename}_{s}_{k}\"\n",
    "                if key in results:\n",
    "                    scores[-1].append(results[key][score_type])\n",
    "                    f += 1\n",
    "                elif treat_missing_as_zero_score:\n",
    "                    scores[-1].append(0.)\n",
    "        #mean and sd over samples\n",
    "        avg = [np.mean(s) for s in scores]\n",
    "        sd = [np.std(s) for s in scores]\n",
    "        #average values over families\n",
    "        results_avg.append(np.mean(avg))\n",
    "        results_sd.append(np.mean(sd))\n",
    "        found.append(f)\n",
    "    if differential:\n",
    "        results_avg = [x-results_avg[0] for x in results_avg]\n",
    "    results_avg = np.array(results_avg)\n",
    "    results_sd = np.array(results_sd)\n",
    "    return results_avg, results_sd, found\n",
    "\n",
    "total = num_samples*len(fasta_files)\n",
    "for key, name, color in zip(msa_method_keys, msa_method_names, msa_method_colors):\n",
    "    avg_scores, sd_scores, found = get_avg(key)\n",
    "    plt.plot(subset_sizes, avg_scores, \"--o\", color=color, label=name)\n",
    "    plt.fill_between(subset_sizes, avg_scores-2*sd_scores, avg_scores+2*sd_scores, color=color, alpha=.2)\n",
    "    for x,y,f in list(zip(subset_sizes, avg_scores, found))[3:]:\n",
    "        plt.annotate(f\"{f}/{total}\", (x-20000, y+1), fontsize=8)\n",
    "    \n",
    "plt.legend()\n",
    "plt.xlabel(\"number of sequences\")\n",
    "if differential:\n",
    "    plt.ylabel(\"differential SP score\")\n",
    "else:\n",
    "    plt.ylabel(\"SP score\")\n",
    "plt.rcParams[\"figure.figsize\"] = (10,5)\n",
    "plt.savefig(\"fig/size_scaling.pdf\", bbox_inches='tight')"
   ]
  },
  {
   "cell_type": "markdown",
   "id": "520ec282-16a2-444f-936c-973afd3eb2a2",
   "metadata": {},
   "source": [
    "Average differential SP scores of MSAs of increasing depths with respect to a shallow baseline MSA. Each data point is averaged over 10 protein families and another 10 randomly drawn sequence sets per family that are sampled as follows. First, $500.000$ member sequences of the respective protein family are drawn randomly. Thereupon in each step, random homologs are removed, i.e. the alignment depths is decreased such that the aligned subsets are nested, ending with a total number of $1500$ sequences, which we used to compute the baseline score. "
   ]
  },
  {
   "cell_type": "code",
   "execution_count": null,
   "id": "225b3b1c-b777-43f7-8792-48eed6108656",
   "metadata": {},
   "outputs": [],
   "source": []
  }
 ],
 "metadata": {
  "kernelspec": {
   "display_name": "Python 3",
   "language": "python",
   "name": "python3"
  },
  "language_info": {
   "codemirror_mode": {
    "name": "ipython",
    "version": 3
   },
   "file_extension": ".py",
   "mimetype": "text/x-python",
   "name": "python",
   "nbconvert_exporter": "python",
   "pygments_lexer": "ipython3",
   "version": "3.9.2"
  }
 },
 "nbformat": 4,
 "nbformat_minor": 5
}
